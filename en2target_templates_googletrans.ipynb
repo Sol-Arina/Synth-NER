{
 "cells": [
  {
   "cell_type": "code",
   "execution_count": 1,
   "metadata": {},
   "outputs": [],
   "source": [
    "import pandas as pd\n",
    "import time\n",
    "from random import randint\n",
    "from googletrans import Translator\n",
    "from concurrent.futures import ThreadPoolExecutor, as_completed, TimeoutError\n",
    "import logging\n",
    "import os"
   ]
  },
  {
   "cell_type": "code",
   "execution_count": null,
   "metadata": {},
   "outputs": [],
   "source": [
    "FINAL_OUTPUT_CSV = 'full_translated_wikiner.csv'\n",
    "BATCH_SIZE = 250\n",
    "MAX_WORKERS = 6\n",
    "TRANSLATION_TIMEOUT = 45  \n",
    "LANGUAGES = ['be', 'sl', 'sk']"
   ]
  },
  {
   "cell_type": "code",
   "execution_count": null,
   "metadata": {},
   "outputs": [],
   "source": [
    "logging.basicConfig(\n",
    "    filename='translation_log.log',\n",
    "    encoding='utf-8',\n",
    "    level=logging.INFO,\n",
    "    format='%(asctime)s - %(levelname)s - %(message)s'\n",
    ")"
   ]
  },
  {
   "cell_type": "code",
   "execution_count": null,
   "metadata": {},
   "outputs": [],
   "source": [
    "df = pd.read_csv('filtered_wikiner_testsplit.csv') \n",
    "df = df.copy()  "
   ]
  },
  {
   "cell_type": "code",
   "execution_count": 10,
   "metadata": {},
   "outputs": [
    {
     "name": "stdout",
     "output_type": "stream",
     "text": [
      "<class 'pandas.core.frame.DataFrame'>\n",
      "RangeIndex: 4214 entries, 0 to 4213\n",
      "Data columns (total 6 columns):\n",
      " #   Column           Non-Null Count  Dtype \n",
      "---  ------           --------------  ----- \n",
      " 0   id               4214 non-null   object\n",
      " 1   words            4214 non-null   object\n",
      " 2   ner_tags         4214 non-null   object\n",
      " 3   marked_sentence  4214 non-null   object\n",
      " 4   ner_type         4214 non-null   object\n",
      " 5   entity_words     4214 non-null   object\n",
      "dtypes: object(6)\n",
      "memory usage: 197.7+ KB\n"
     ]
    }
   ],
   "source": [
    "df.info()"
   ]
  },
  {
   "cell_type": "code",
   "execution_count": null,
   "metadata": {},
   "outputs": [],
   "source": [
    "translator = Translator()"
   ]
  },
  {
   "cell_type": "code",
   "execution_count": null,
   "metadata": {},
   "outputs": [],
   "source": [
    "def ilovetranslating(sentence, languages=LANGUAGES, retries=5):\n",
    "    '''i translate to be sl sk'''\n",
    "    attempt = 0\n",
    "    while attempt < retries:\n",
    "        try:\n",
    "            if len(sentence) > 5000:\n",
    "                raise ValueError('Превышает лимит по кол-ву символов!')\n",
    "            translations = {}\n",
    "            for lang in languages:\n",
    "                translated = translator.translate(sentence, dest=lang).text\n",
    "                if not translated:\n",
    "                    raise ValueError(f'None вместо перевода, язык - {lang}')\n",
    "                translations[lang] = translated\n",
    "            return translations\n",
    "        except Exception as e:\n",
    "            logging.warning(f'попытка {attempt + 1}/{retries}, ошибка: {e}')\n",
    "            time.sleep(randint(5, 15))\n",
    "            attempt += 1\n",
    "    return {lang: f'translation failed {sentence}' for lang in languages}"
   ]
  },
  {
   "cell_type": "code",
   "execution_count": null,
   "metadata": {},
   "outputs": [],
   "source": [
    "def translate_timeout(sentence):\n",
    "    '''wrapper для ilovetranslating'''\n",
    "    with ThreadPoolExecutor(max_workers=1) as single_executor:\n",
    "        future = single_executor.submit(ilovetranslating, sentence)\n",
    "        return future.result(timeout=TRANSLATION_TIMEOUT)"
   ]
  },
  {
   "cell_type": "code",
   "execution_count": null,
   "metadata": {},
   "outputs": [],
   "source": [
    "def run_translation():\n",
    "    '''перевод по батчам'''\n",
    "    allbatches = len(df) // BATCH_SIZE + (1 if len(df) % BATCH_SIZE != 0 else 0)\n",
    "    logging.info(f'начинается перевод {len(df)} строки в {allbatches} батчей')\n",
    "\n",
    "    with ThreadPoolExecutor(max_workers=MAX_WORKERS) as executor:\n",
    "        for batch_num, start in enumerate(range(0, len(df), BATCH_SIZE), 1):\n",
    "            end = min(start + BATCH_SIZE, len(df))\n",
    "            batch_df = df.iloc[start:end].copy()\n",
    "            sentences = batch_df['marked_sentence'].tolist()\n",
    "\n",
    "            future_to_index = {\n",
    "                executor.submit(translate_timeout, sentence): i\n",
    "                for i, sentence in enumerate(sentences)\n",
    "            }\n",
    "\n",
    "            results = [{} for _ in range(len(sentences))]\n",
    "\n",
    "            for future in as_completed(future_to_index):\n",
    "                i = future_to_index[future]\n",
    "                try:\n",
    "                    result = future.result()\n",
    "                    results[i] = result\n",
    "                except TimeoutError:\n",
    "                    logging.error(f'timeout at index {start + i}')\n",
    "                    results[i] = {lang: f'timeout {sentences[i]}' for lang in LANGUAGES}\n",
    "                except Exception as e:\n",
    "                    logging.error(f'exception at index {start + i}: {e}')\n",
    "                    results[i] = {lang: f'ошибка {sentences[i]}' for lang in LANGUAGES}\n",
    "\n",
    "            for i, translations in enumerate(results):\n",
    "                for lang in LANGUAGES:\n",
    "                    col_name = f'translated_{lang}'\n",
    "                    batch_df.at[start + i, col_name] = translations.get(lang, '')\n",
    "\n",
    "            # соединение с исходным df\n",
    "            for lang in LANGUAGES:\n",
    "                col_name = f'translated_{lang}'\n",
    "                if col_name not in df.columns:\n",
    "                    df[col_name] = ''\n",
    "                df.loc[start:end-1, col_name] = batch_df[col_name].values\n",
    "\n",
    "            checkpoint_file = f'translation_checkpoint_{start}_{end}.csv'\n",
    "            batch_df.to_csv(checkpoint_file, index=False)\n",
    "            logging.info(f'сохранён {checkpoint_file} для батча {batch_num}/{allbatches}')\n",
    "\n",
    "    df.to_csv(FINAL_OUTPUT_CSV, index=False)\n",
    "    logging.info(f'все батчи переведены и сохранены в {FINAL_OUTPUT_CSV}')"
   ]
  },
  {
   "cell_type": "code",
   "execution_count": null,
   "metadata": {},
   "outputs": [],
   "source": [
    "if __name__ == '__main__':\n",
    "    run_translation()"
   ]
  },
  {
   "cell_type": "markdown",
   "metadata": {},
   "source": [
    "CONCATENATING TRANSLATED FRAGMENTS"
   ]
  },
  {
   "cell_type": "code",
   "execution_count": null,
   "metadata": {},
   "outputs": [],
   "source": [
    "path = 'D:\\thesisscripts'"
   ]
  },
  {
   "cell_type": "code",
   "execution_count": 4,
   "metadata": {},
   "outputs": [],
   "source": [
    "files = [file for file in os.listdir(path) if file.endswith('.csv') ]"
   ]
  },
  {
   "cell_type": "code",
   "execution_count": 5,
   "metadata": {},
   "outputs": [],
   "source": [
    "dfs = []\n",
    "for file in files:\n",
    "    df = pd.read_csv(os.path.join(path, file))\n",
    "    dfs.append(df)"
   ]
  },
  {
   "cell_type": "code",
   "execution_count": 6,
   "metadata": {},
   "outputs": [],
   "source": [
    "df = pd.concat(dfs, ignore_index=True)"
   ]
  },
  {
   "cell_type": "code",
   "execution_count": 7,
   "metadata": {},
   "outputs": [
    {
     "name": "stdout",
     "output_type": "stream",
     "text": [
      "<class 'pandas.core.frame.DataFrame'>\n",
      "RangeIndex: 5410 entries, 0 to 5409\n",
      "Data columns (total 12 columns):\n",
      " #   Column                 Non-Null Count  Dtype \n",
      "---  ------                 --------------  ----- \n",
      " 0   id                     5410 non-null   object\n",
      " 1   words                  5410 non-null   object\n",
      " 2   ner_tags               5410 non-null   object\n",
      " 3   marked_sentence        5410 non-null   object\n",
      " 4   ner_type               5410 non-null   object\n",
      " 5   entity_words           5410 non-null   object\n",
      " 6   translated_belarusian  2507 non-null   object\n",
      " 7   translated_slovenian   2507 non-null   object\n",
      " 8   translated_slovak      2507 non-null   object\n",
      " 9   translated_be          1907 non-null   object\n",
      " 10  translated_sl          1907 non-null   object\n",
      " 11  translated_sk          1907 non-null   object\n",
      "dtypes: object(12)\n",
      "memory usage: 507.3+ KB\n"
     ]
    }
   ],
   "source": [
    "df.info()"
   ]
  },
  {
   "cell_type": "code",
   "execution_count": 9,
   "metadata": {},
   "outputs": [
    {
     "data": {
      "text/html": [
       "<div>\n",
       "<style scoped>\n",
       "    .dataframe tbody tr th:only-of-type {\n",
       "        vertical-align: middle;\n",
       "    }\n",
       "\n",
       "    .dataframe tbody tr th {\n",
       "        vertical-align: top;\n",
       "    }\n",
       "\n",
       "    .dataframe thead th {\n",
       "        text-align: right;\n",
       "    }\n",
       "</style>\n",
       "<table border=\"1\" class=\"dataframe\">\n",
       "  <thead>\n",
       "    <tr style=\"text-align: right;\">\n",
       "      <th></th>\n",
       "      <th>id</th>\n",
       "      <th>words</th>\n",
       "      <th>ner_tags</th>\n",
       "      <th>marked_sentence</th>\n",
       "      <th>ner_type</th>\n",
       "      <th>entity_words</th>\n",
       "      <th>translated_belarusian</th>\n",
       "      <th>translated_slovenian</th>\n",
       "      <th>translated_slovak</th>\n",
       "      <th>translated_be</th>\n",
       "      <th>translated_sl</th>\n",
       "      <th>translated_sk</th>\n",
       "    </tr>\n",
       "  </thead>\n",
       "  <tbody>\n",
       "    <tr>\n",
       "      <th>2726</th>\n",
       "      <td>en-doc6251-sent35</td>\n",
       "      <td>['At', 'the', 'time', 'of', 'its', 'discovery'...</td>\n",
       "      <td>[0, 0, 0, 0, 0, 0, 0, 0, 0, 0, 0, 0, 0, 1, 0, ...</td>\n",
       "      <td>At the time of its discovery , the comet was i...</td>\n",
       "      <td>LOC</td>\n",
       "      <td>Jupiter</td>\n",
       "      <td>На момант свайго адкрыцця Камета знаходзілася ...</td>\n",
       "      <td>V času svojega odkritja je bil komet v orbiti ...</td>\n",
       "      <td>V čase svojho objavenia bola kométa na obežnej...</td>\n",
       "      <td>NaN</td>\n",
       "      <td>NaN</td>\n",
       "      <td>NaN</td>\n",
       "    </tr>\n",
       "    <tr>\n",
       "      <th>2730</th>\n",
       "      <td>en-doc6059-sent62</td>\n",
       "      <td>['The', 'discovery', 'of', 'his', 'fraud', ','...</td>\n",
       "      <td>[0, 0, 0, 0, 0, 0, 0, 0, 0, 0, 0, 0, 0, 0, 0, ...</td>\n",
       "      <td>The discovery of his fraud , the displeasure o...</td>\n",
       "      <td>PER</td>\n",
       "      <td>Aetius</td>\n",
       "      <td>Адкрыццё яго махлярства, незадавальненне імпер...</td>\n",
       "      <td>Odkritje njegove goljufije, nezadovoljstvo ces...</td>\n",
       "      <td>Objav jeho podvodu, nelibosť cisárovnej a význ...</td>\n",
       "      <td>NaN</td>\n",
       "      <td>NaN</td>\n",
       "      <td>NaN</td>\n",
       "    </tr>\n",
       "    <tr>\n",
       "      <th>170</th>\n",
       "      <td>en-doc6252-sent14</td>\n",
       "      <td>['Several', 'authors', 'have', 'also', 'publis...</td>\n",
       "      <td>[0, 0, 0, 0, 0, 0, 0, 0, 0, 0, 0, 0, 0, 0, 0, ...</td>\n",
       "      <td>Several authors have also published books titl...</td>\n",
       "      <td>PER</td>\n",
       "      <td>Lovecraft</td>\n",
       "      <td>NaN</td>\n",
       "      <td>NaN</td>\n",
       "      <td>NaN</td>\n",
       "      <td>NaN</td>\n",
       "      <td>NaN</td>\n",
       "      <td>NaN</td>\n",
       "    </tr>\n",
       "    <tr>\n",
       "      <th>2696</th>\n",
       "      <td>en-doc6305-sent59</td>\n",
       "      <td>['The', 'three', 'points', 'of', 'the', 'tride...</td>\n",
       "      <td>[0, 0, 0, 0, 0, 0, 0, 0, 1, 0, 0, 0, 0, 0, 0, ...</td>\n",
       "      <td>The three points of the trident represent in [...</td>\n",
       "      <td>LOC</td>\n",
       "      <td>Barbados</td>\n",
       "      <td>Тры пункты трызуба ўяўляюць у [Барбадаса] тры ...</td>\n",
       "      <td>Tri točke Tridenta na [Barbadosu] predstavljaj...</td>\n",
       "      <td>Tri body Tridenta predstavujú v [Barbados] tri...</td>\n",
       "      <td>NaN</td>\n",
       "      <td>NaN</td>\n",
       "      <td>NaN</td>\n",
       "    </tr>\n",
       "    <tr>\n",
       "      <th>4554</th>\n",
       "      <td>en-doc5948-sent0</td>\n",
       "      <td>['Its', '23-year', 'run', 'made', 'The', 'Ed',...</td>\n",
       "      <td>[0, 0, 0, 0, 0, 0, 0, 0, 0, 0, 0, 0, 0, 0, 0, ...</td>\n",
       "      <td>Its 23-year run made The Ed Sullivan Show one ...</td>\n",
       "      <td>LOC</td>\n",
       "      <td>U.S.</td>\n",
       "      <td>NaN</td>\n",
       "      <td>NaN</td>\n",
       "      <td>NaN</td>\n",
       "      <td>Яго 23-гадовы прабег зрабіў шоу Эда Салівана а...</td>\n",
       "      <td>Zaradi 23-letnega teka je Ed Sullivan pokazal ...</td>\n",
       "      <td>Jeho 23-ročný beh urobil z výstavy Ed Sullivan...</td>\n",
       "    </tr>\n",
       "  </tbody>\n",
       "</table>\n",
       "</div>"
      ],
      "text/plain": [
       "                     id                                              words  \\\n",
       "2726  en-doc6251-sent35  ['At', 'the', 'time', 'of', 'its', 'discovery'...   \n",
       "2730  en-doc6059-sent62  ['The', 'discovery', 'of', 'his', 'fraud', ','...   \n",
       "170   en-doc6252-sent14  ['Several', 'authors', 'have', 'also', 'publis...   \n",
       "2696  en-doc6305-sent59  ['The', 'three', 'points', 'of', 'the', 'tride...   \n",
       "4554   en-doc5948-sent0  ['Its', '23-year', 'run', 'made', 'The', 'Ed',...   \n",
       "\n",
       "                                               ner_tags  \\\n",
       "2726  [0, 0, 0, 0, 0, 0, 0, 0, 0, 0, 0, 0, 0, 1, 0, ...   \n",
       "2730  [0, 0, 0, 0, 0, 0, 0, 0, 0, 0, 0, 0, 0, 0, 0, ...   \n",
       "170   [0, 0, 0, 0, 0, 0, 0, 0, 0, 0, 0, 0, 0, 0, 0, ...   \n",
       "2696  [0, 0, 0, 0, 0, 0, 0, 0, 1, 0, 0, 0, 0, 0, 0, ...   \n",
       "4554  [0, 0, 0, 0, 0, 0, 0, 0, 0, 0, 0, 0, 0, 0, 0, ...   \n",
       "\n",
       "                                        marked_sentence ner_type entity_words  \\\n",
       "2726  At the time of its discovery , the comet was i...      LOC      Jupiter   \n",
       "2730  The discovery of his fraud , the displeasure o...      PER       Aetius   \n",
       "170   Several authors have also published books titl...      PER    Lovecraft   \n",
       "2696  The three points of the trident represent in [...      LOC     Barbados   \n",
       "4554  Its 23-year run made The Ed Sullivan Show one ...      LOC         U.S.   \n",
       "\n",
       "                                  translated_belarusian  \\\n",
       "2726  На момант свайго адкрыцця Камета знаходзілася ...   \n",
       "2730  Адкрыццё яго махлярства, незадавальненне імпер...   \n",
       "170                                                 NaN   \n",
       "2696  Тры пункты трызуба ўяўляюць у [Барбадаса] тры ...   \n",
       "4554                                                NaN   \n",
       "\n",
       "                                   translated_slovenian  \\\n",
       "2726  V času svojega odkritja je bil komet v orbiti ...   \n",
       "2730  Odkritje njegove goljufije, nezadovoljstvo ces...   \n",
       "170                                                 NaN   \n",
       "2696  Tri točke Tridenta na [Barbadosu] predstavljaj...   \n",
       "4554                                                NaN   \n",
       "\n",
       "                                      translated_slovak  \\\n",
       "2726  V čase svojho objavenia bola kométa na obežnej...   \n",
       "2730  Objav jeho podvodu, nelibosť cisárovnej a význ...   \n",
       "170                                                 NaN   \n",
       "2696  Tri body Tridenta predstavujú v [Barbados] tri...   \n",
       "4554                                                NaN   \n",
       "\n",
       "                                          translated_be  \\\n",
       "2726                                                NaN   \n",
       "2730                                                NaN   \n",
       "170                                                 NaN   \n",
       "2696                                                NaN   \n",
       "4554  Яго 23-гадовы прабег зрабіў шоу Эда Салівана а...   \n",
       "\n",
       "                                          translated_sl  \\\n",
       "2726                                                NaN   \n",
       "2730                                                NaN   \n",
       "170                                                 NaN   \n",
       "2696                                                NaN   \n",
       "4554  Zaradi 23-letnega teka je Ed Sullivan pokazal ...   \n",
       "\n",
       "                                          translated_sk  \n",
       "2726                                                NaN  \n",
       "2730                                                NaN  \n",
       "170                                                 NaN  \n",
       "2696                                                NaN  \n",
       "4554  Jeho 23-ročný beh urobil z výstavy Ed Sullivan...  "
      ]
     },
     "execution_count": 9,
     "metadata": {},
     "output_type": "execute_result"
    }
   ],
   "source": [
    "df.sample(5)"
   ]
  },
  {
   "cell_type": "code",
   "execution_count": 10,
   "metadata": {},
   "outputs": [],
   "source": [
    "df['translated_belarusian'] = df['translated_belarusian'].combine_first(df['translated_be'])\n",
    "df['translated_slovenian'] = df['translated_slovenian'].combine_first(df['translated_sl'])\n",
    "df['translated_slovak'] = df['translated_slovak'].combine_first(df['translated_sk'])"
   ]
  },
  {
   "cell_type": "code",
   "execution_count": 14,
   "metadata": {},
   "outputs": [],
   "source": [
    "df = df.drop(columns=['translated_be', 'translated_sl', 'translated_sk'])"
   ]
  },
  {
   "cell_type": "code",
   "execution_count": 18,
   "metadata": {},
   "outputs": [
    {
     "name": "stdout",
     "output_type": "stream",
     "text": [
      "<class 'pandas.core.frame.DataFrame'>\n",
      "Index: 4414 entries, 0 to 5409\n",
      "Data columns (total 9 columns):\n",
      " #   Column                 Non-Null Count  Dtype \n",
      "---  ------                 --------------  ----- \n",
      " 0   id                     4414 non-null   object\n",
      " 1   words                  4414 non-null   object\n",
      " 2   ner_tags               4414 non-null   object\n",
      " 3   marked_sentence        4414 non-null   object\n",
      " 4   ner_type               4414 non-null   object\n",
      " 5   entity_words           4414 non-null   object\n",
      " 6   translated_belarusian  4414 non-null   object\n",
      " 7   translated_slovenian   4414 non-null   object\n",
      " 8   translated_slovak      4414 non-null   object\n",
      "dtypes: object(9)\n",
      "memory usage: 344.8+ KB\n"
     ]
    }
   ],
   "source": [
    "df.info()"
   ]
  },
  {
   "cell_type": "code",
   "execution_count": 19,
   "metadata": {},
   "outputs": [],
   "source": [
    "df.to_csv('combined_translated_templates.csv')"
   ]
  },
  {
   "cell_type": "code",
   "execution_count": null,
   "metadata": {},
   "outputs": [],
   "source": [
    "#from google.cloud import translate_v2 as translate"
   ]
  },
  {
   "cell_type": "code",
   "execution_count": 1,
   "metadata": {},
   "outputs": [
    {
     "name": "stdout",
     "output_type": "stream",
     "text": [
      "Hola\n"
     ]
    }
   ],
   "source": [
    "from googletrans import Translator\n",
    "\n",
    "translator = Translator()\n",
    "result = translator.translate('Hello', src='en', dest='es')\n",
    "print(result.text)  # Get the translated text"
   ]
  }
 ],
 "metadata": {
  "kernelspec": {
   "display_name": "Python 3",
   "language": "python",
   "name": "python3"
  },
  "language_info": {
   "codemirror_mode": {
    "name": "ipython",
    "version": 3
   },
   "file_extension": ".py",
   "mimetype": "text/x-python",
   "name": "python",
   "nbconvert_exporter": "python",
   "pygments_lexer": "ipython3",
   "version": "3.9.13"
  }
 },
 "nbformat": 4,
 "nbformat_minor": 2
}
